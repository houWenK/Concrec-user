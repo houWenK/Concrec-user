{
 "cells": [
  {
   "cell_type": "markdown",
   "id": "71eebe3e",
   "metadata": {},
   "source": [
    "# Define Features"
   ]
  },
  {
   "cell_type": "code",
   "execution_count": 11,
   "id": "cee47074",
   "metadata": {},
   "outputs": [
    {
     "name": "stderr",
     "output_type": "stream",
     "text": [
      "/Users/daniel/Programs/machine-learning/recsys-lecture/concrec/rank-service/venv/lib/python3.8/site-packages/pandas/compat/__init__.py:124: UserWarning: Could not import the lzma module. Your installed Python is incomplete. Attempting to use lzma compression will result in a RuntimeError.\n",
      "  warnings.warn(msg)\n"
     ]
    }
   ],
   "source": [
    "import numpy as np\n",
    "import pandas as pd"
   ]
  },
  {
   "cell_type": "code",
   "execution_count": 12,
   "id": "d2803db9",
   "metadata": {},
   "outputs": [],
   "source": [
    "def get_item_numeric_features(df):\n",
    "    numeric_feature_names = [\n",
    "        'all_rating_min_max',\n",
    "        'members_min_max',\n",
    "        'aired_from_min_max',\n",
    "        'aired_to_min_max'\n",
    "    ]\n",
    "    \n",
    "    feat_df = df[numeric_feature_names]\n",
    "    return feat_df.to_numpy()\n",
    "\n",
    "def get_user_numeric_features(df):\n",
    "    numeric_feature_names = [\n",
    "        'user_rating_ave_min_max',\n",
    "        'user_rating_std_min_max',\n",
    "        'user_aired_from_ave_min_max',\n",
    "        'user_aired_to_ave_min_max'\n",
    "    ]\n",
    "    \n",
    "    feat_df = df[numeric_feature_names]\n",
    "    return feat_df.to_numpy()"
   ]
  },
  {
   "cell_type": "code",
   "execution_count": 13,
   "id": "1111c847",
   "metadata": {},
   "outputs": [],
   "source": [
    "def get_multihot_feature(df, feat_name):\n",
    "    feat_df = df[[feat_name]]\n",
    "    feat_vecs = feat_df.to_numpy()\n",
    "    feat_vec = np.apply_along_axis(lambda v: v[0], 1, feat_vecs)\n",
    "    return feat_vec"
   ]
  },
  {
   "cell_type": "code",
   "execution_count": 14,
   "id": "6fed1936",
   "metadata": {},
   "outputs": [],
   "source": [
    "def get_label(df):\n",
    "    label_df = df[['label']]\n",
    "    return label_df.to_numpy()"
   ]
  },
  {
   "cell_type": "code",
   "execution_count": 15,
   "id": "7d7eeaa6",
   "metadata": {},
   "outputs": [],
   "source": [
    "def get_all_features(df):\n",
    "    return (\n",
    "        get_multihot_feature(df, 'genres_multihot'),\n",
    "        get_multihot_feature(df, 'user_liked_genres_multihot'),\n",
    "        get_item_numeric_features(df),\n",
    "        get_user_numeric_features(df)\n",
    "    )"
   ]
  },
  {
   "cell_type": "markdown",
   "id": "5116dc6b",
   "metadata": {},
   "source": [
    "# MLP"
   ]
  },
  {
   "cell_type": "markdown",
   "id": "b6dcd99b",
   "metadata": {},
   "source": [
    "x1: item categorical feature         \n",
    "x2: user categorical feature        \n",
    "x3: item numeric features         \n",
    "x4: user numeric features"
   ]
  },
  {
   "cell_type": "code",
   "execution_count": 10,
   "id": "ea8509f7",
   "metadata": {},
   "outputs": [],
   "source": [
    "import tensorflow as tf\n",
    "import tensorflow.keras as keras"
   ]
  },
  {
   "cell_type": "code",
   "execution_count": 1,
   "id": "10e66146",
   "metadata": {},
   "outputs": [],
   "source": [
    "from tensorboard.plugins.hparams import api as hp"
   ]
  },
  {
   "cell_type": "code",
   "execution_count": 43,
   "id": "70651a39",
   "metadata": {},
   "outputs": [],
   "source": [
    "HP_LAYERS = hp.HParam(\"layers\", hp.IntInterval(2, 3))\n",
    "HP_LAYER_SIZE = hp.HParam(\"layer_size\", hp.Discrete([64, 128, 256]))\n",
    "HP_LEARN_RATE = hp.HParam(\"learn_rate\", hp.Discrete([0.001, 0.003, 0.01]))\n",
    "\n",
    "HPARAMS = [\n",
    "    HP_LAYERS,\n",
    "    HP_LAYER_SIZE,\n",
    "    HP_LEARN_RATE\n",
    "]\n",
    "\n",
    "METRICS = [\n",
    "    hp.Metric(\n",
    "        \"loss\",\n",
    "        group=\"train\",\n",
    "        display_name=\"loss (train)\",\n",
    "    ),\n",
    "    hp.Metric(\n",
    "        \"loss\",\n",
    "        group=\"validation\",\n",
    "        display_name=\"loss (val)\",\n",
    "    ),\n",
    "]"
   ]
  },
  {
   "cell_type": "code",
   "execution_count": 30,
   "id": "6857e6fb",
   "metadata": {},
   "outputs": [],
   "source": [
    "def build_model(x1_shape, x2_shape, x3_shape, x4_shape, hparams):\n",
    "    x1_input = keras.layers.Input(shape=(x1_shape,))\n",
    "    x2_input = keras.layers.Input(shape=(x2_shape,))\n",
    "    x3_input = keras.layers.Input(shape=(x3_shape,))\n",
    "    x4_input = keras.layers.Input(shape=(x4_shape,))\n",
    "    \n",
    "    # compact embedding for x1 and x2\n",
    "    compact_x1 = keras.layers.Dense(10)(x1_input)\n",
    "    compact_x2 = keras.layers.Dense(10)(x2_input)\n",
    "    \n",
    "    # concat all\n",
    "    merge = keras.layers.concatenate([compact_x1, compact_x2, x3_input, x4_input])\n",
    "    \n",
    "    # hidden layers\n",
    "    h_input = merge\n",
    "    for _ in range(hparams[HP_LAYERS]):\n",
    "        h = keras.layers.Dense(hparams[HP_LAYER_SIZE], activation='relu')(h_input)\n",
    "        h_input = h\n",
    "    \n",
    "    # output\n",
    "    output = keras.layers.Dense(1, activation='sigmoid')(h_input)\n",
    "    \n",
    "    model = keras.models.Model(inputs=[x1_input, x2_input, x3_input, x4_input], outputs=output)\n",
    "    \n",
    "    # optimizer\n",
    "    opt = keras.optimizers.Adam(learning_rate=hparams[HP_LEARN_RATE])\n",
    "    model.compile(\n",
    "        loss='binary_crossentropy',\n",
    "        optimizer=opt,\n",
    "        metrics=['accuracy']\n",
    "    )\n",
    "    \n",
    "    return model"
   ]
  },
  {
   "cell_type": "markdown",
   "id": "a183b342",
   "metadata": {},
   "source": [
    "# Load dataset"
   ]
  },
  {
   "cell_type": "code",
   "execution_count": 20,
   "id": "04cb1d90",
   "metadata": {},
   "outputs": [],
   "source": [
    "import os"
   ]
  },
  {
   "cell_type": "code",
   "execution_count": 21,
   "id": "eaa517d5",
   "metadata": {},
   "outputs": [],
   "source": [
    "def data_files():\n",
    "    filenames = []\n",
    "    for root, dirs, files in os.walk('../../data/anime/dnn_feat_eng'):\n",
    "        for file in files:\n",
    "            if file.endswith('.parquet'):\n",
    "                filenames.append(os.path.join(root, file))\n",
    "                \n",
    "    return filenames"
   ]
  },
  {
   "cell_type": "code",
   "execution_count": 22,
   "id": "4d2d7073",
   "metadata": {},
   "outputs": [],
   "source": [
    "filesnames = data_files()"
   ]
  },
  {
   "cell_type": "code",
   "execution_count": 44,
   "id": "b2462eb6",
   "metadata": {},
   "outputs": [],
   "source": [
    "# 模型调优总入口\n",
    "# 负责构建超参数组合，并且调用模型\n",
    "def test_params():\n",
    "    with tf.summary.create_file_writer('hparams').as_default():\n",
    "            hp.hparams_config(hparams=HPARAMS, metrics=METRICS)\n",
    "            \n",
    "    model_id = 0\n",
    "    for layers in range(HP_LAYERS.domain.min_value, HP_LAYERS.domain.max_value + 1):\n",
    "        for size in HP_LAYER_SIZE.domain.values:\n",
    "            for rate in HP_LEARN_RATE.domain.values:\n",
    "                hparams = {\n",
    "                    HP_LAYERS: layers,\n",
    "                    HP_LAYER_SIZE: size,\n",
    "                    HP_LEARN_RATE: rate\n",
    "                }\n",
    "\n",
    "                run_model(model_id, hparams)\n",
    "                model_id += 1\n",
    "\n",
    "# 给定某一超参数组合，构建模型并训练\n",
    "def run_model(model_id, hparams):\n",
    "    # build model\n",
    "    model = build_model(43, 43, 4, 4, hparams)\n",
    "    print(f\"\\nmodel id: {model_id}:\")\n",
    "    print({h.name: hparams[h] for h in hparams})\n",
    "\n",
    "    # config hparam logs\n",
    "    log_filename = f\"{model_id}\"\n",
    "    for h in hparams:\n",
    "        log_filename += f\"_{h.name}-{hparams[h]}\"\n",
    "    \n",
    "    log_dir = os.path.join(\"hparams\", log_filename)\n",
    "    tensorboard_callback = tf.keras.callbacks.TensorBoard(\n",
    "        log_dir = log_dir,\n",
    "        update_freq = 10,\n",
    "        profile_batch = 0\n",
    "    )\n",
    "    hparams_callback = hp.KerasCallback(log_dir, hparams)\n",
    "    \n",
    "    # train model\n",
    "    filenames = data_files()\n",
    "    for filename in filenames[:1]:\n",
    "        df = pd.read_parquet(filename)\n",
    "\n",
    "        train_df = df\n",
    "\n",
    "        # get features\n",
    "        train_x1, train_x2, train_x3, train_x4 = get_all_features(train_df)\n",
    "\n",
    "        # get label\n",
    "        train_y = get_label(train_df)\n",
    "\n",
    "        model.fit(\n",
    "            [train_x1, train_x2, train_x3, train_x4], \n",
    "            train_y, \n",
    "            validation_split=0.2,\n",
    "            batch_size=16, \n",
    "            epochs=4,\n",
    "            callbacks=[tensorboard_callback, hparams_callback]\n",
    "        )"
   ]
  },
  {
   "cell_type": "code",
   "execution_count": 45,
   "id": "40c7c4cd",
   "metadata": {
    "scrolled": false
   },
   "outputs": [
    {
     "name": "stdout",
     "output_type": "stream",
     "text": [
      "\n",
      "model id: 0:\n",
      "{'layers': 2, 'layer_size': 64, 'learn_rate': 0.001}\n",
      "Epoch 1/4\n",
      "1845/1845 [==============================] - 3s 1ms/step - loss: 0.5794 - accuracy: 0.6939 - val_loss: 0.5682 - val_accuracy: 0.7049\n",
      "Epoch 2/4\n",
      "1845/1845 [==============================] - 2s 975us/step - loss: 0.5325 - accuracy: 0.7330 - val_loss: 0.5547 - val_accuracy: 0.7152\n",
      "Epoch 3/4\n",
      "1845/1845 [==============================] - 2s 984us/step - loss: 0.5195 - accuracy: 0.7431 - val_loss: 0.5435 - val_accuracy: 0.7312\n",
      "Epoch 4/4\n",
      "1845/1845 [==============================] - 2s 968us/step - loss: 0.5111 - accuracy: 0.7486 - val_loss: 0.5512 - val_accuracy: 0.7240\n",
      "\n",
      "model id: 1:\n",
      "{'layers': 2, 'layer_size': 64, 'learn_rate': 0.003}\n",
      "Epoch 1/4\n",
      "1845/1845 [==============================] - 2s 1ms/step - loss: 0.5779 - accuracy: 0.6954 - val_loss: 0.5544 - val_accuracy: 0.7231\n",
      "Epoch 2/4\n",
      "1845/1845 [==============================] - 2s 982us/step - loss: 0.5315 - accuracy: 0.7372 - val_loss: 0.5465 - val_accuracy: 0.7248\n",
      "Epoch 3/4\n",
      "1845/1845 [==============================] - 2s 992us/step - loss: 0.5231 - accuracy: 0.7420 - val_loss: 0.5441 - val_accuracy: 0.7324\n",
      "Epoch 4/4\n",
      "1845/1845 [==============================] - 2s 1ms/step - loss: 0.5178 - accuracy: 0.7435 - val_loss: 0.5413 - val_accuracy: 0.7271\n",
      "\n",
      "model id: 2:\n",
      "{'layers': 2, 'layer_size': 64, 'learn_rate': 0.01}\n",
      "Epoch 1/4\n",
      "1845/1845 [==============================] - 2s 1ms/step - loss: 0.5925 - accuracy: 0.6825 - val_loss: 0.5701 - val_accuracy: 0.7118\n",
      "Epoch 2/4\n",
      "1845/1845 [==============================] - 2s 993us/step - loss: 0.5478 - accuracy: 0.7234 - val_loss: 0.5503 - val_accuracy: 0.7288\n",
      "Epoch 3/4\n",
      "1845/1845 [==============================] - 2s 1ms/step - loss: 0.5347 - accuracy: 0.7334 - val_loss: 0.5485 - val_accuracy: 0.7267\n",
      "Epoch 4/4\n",
      "1845/1845 [==============================] - 2s 997us/step - loss: 0.5289 - accuracy: 0.7355 - val_loss: 0.5559 - val_accuracy: 0.7213\n",
      "\n",
      "model id: 3:\n",
      "{'layers': 2, 'layer_size': 128, 'learn_rate': 0.001}\n",
      "Epoch 1/4\n",
      "1845/1845 [==============================] - 2s 1ms/step - loss: 0.5722 - accuracy: 0.6978 - val_loss: 0.5721 - val_accuracy: 0.7008\n",
      "Epoch 2/4\n",
      "1845/1845 [==============================] - 2s 1ms/step - loss: 0.5278 - accuracy: 0.7378 - val_loss: 0.5717 - val_accuracy: 0.7019\n",
      "Epoch 3/4\n",
      "1845/1845 [==============================] - 2s 1ms/step - loss: 0.5170 - accuracy: 0.7469 - val_loss: 0.5468 - val_accuracy: 0.7212\n",
      "Epoch 4/4\n",
      "1845/1845 [==============================] - 2s 1ms/step - loss: 0.5123 - accuracy: 0.7479 - val_loss: 0.5501 - val_accuracy: 0.7229\n",
      "\n",
      "model id: 4:\n",
      "{'layers': 2, 'layer_size': 128, 'learn_rate': 0.003}\n",
      "Epoch 1/4\n",
      "1845/1845 [==============================] - 3s 1ms/step - loss: 0.5740 - accuracy: 0.6991 - val_loss: 0.5491 - val_accuracy: 0.7244\n",
      "Epoch 2/4\n",
      "1845/1845 [==============================] - 2s 1ms/step - loss: 0.5311 - accuracy: 0.7360 - val_loss: 0.5459 - val_accuracy: 0.7281\n",
      "Epoch 3/4\n",
      "1845/1845 [==============================] - 2s 1ms/step - loss: 0.5245 - accuracy: 0.7388 - val_loss: 0.5490 - val_accuracy: 0.7264\n",
      "Epoch 4/4\n",
      "1845/1845 [==============================] - 2s 1ms/step - loss: 0.5205 - accuracy: 0.7413 - val_loss: 0.5468 - val_accuracy: 0.7313\n",
      "\n",
      "model id: 5:\n",
      "{'layers': 2, 'layer_size': 128, 'learn_rate': 0.01}\n",
      "Epoch 1/4\n",
      "1845/1845 [==============================] - 3s 1ms/step - loss: 0.5945 - accuracy: 0.6794 - val_loss: 0.5671 - val_accuracy: 0.7080\n",
      "Epoch 2/4\n",
      "1845/1845 [==============================] - 2s 1ms/step - loss: 0.5463 - accuracy: 0.7292 - val_loss: 0.5643 - val_accuracy: 0.7153\n",
      "Epoch 3/4\n",
      "1845/1845 [==============================] - 2s 1ms/step - loss: 0.5344 - accuracy: 0.7326 - val_loss: 0.5660 - val_accuracy: 0.7115\n",
      "Epoch 4/4\n",
      "1845/1845 [==============================] - 2s 1ms/step - loss: 0.5312 - accuracy: 0.7355 - val_loss: 0.5705 - val_accuracy: 0.7031\n",
      "\n",
      "model id: 6:\n",
      "{'layers': 2, 'layer_size': 256, 'learn_rate': 0.001}\n",
      "Epoch 1/4\n",
      "1845/1845 [==============================] - 3s 1ms/step - loss: 0.5694 - accuracy: 0.7008 - val_loss: 0.5625 - val_accuracy: 0.7149\n",
      "Epoch 2/4\n",
      "1845/1845 [==============================] - 2s 1ms/step - loss: 0.5281 - accuracy: 0.7363 - val_loss: 0.5502 - val_accuracy: 0.7212\n",
      "Epoch 3/4\n",
      "1845/1845 [==============================] - 2s 1ms/step - loss: 0.5188 - accuracy: 0.7413 - val_loss: 0.5603 - val_accuracy: 0.7133\n",
      "Epoch 4/4\n",
      "1845/1845 [==============================] - 2s 1ms/step - loss: 0.5107 - accuracy: 0.7509 - val_loss: 0.5792 - val_accuracy: 0.6957\n",
      "\n",
      "model id: 7:\n",
      "{'layers': 2, 'layer_size': 256, 'learn_rate': 0.003}\n",
      "Epoch 1/4\n",
      "1845/1845 [==============================] - 3s 1ms/step - loss: 0.5719 - accuracy: 0.7012 - val_loss: 0.5545 - val_accuracy: 0.7189\n",
      "Epoch 2/4\n",
      "1845/1845 [==============================] - 2s 1ms/step - loss: 0.5345 - accuracy: 0.7325 - val_loss: 0.5392 - val_accuracy: 0.7340\n",
      "Epoch 3/4\n",
      "1845/1845 [==============================] - 2s 1ms/step - loss: 0.5255 - accuracy: 0.7387 - val_loss: 0.5607 - val_accuracy: 0.7195\n",
      "Epoch 4/4\n",
      "1845/1845 [==============================] - 2s 1ms/step - loss: 0.5198 - accuracy: 0.7425 - val_loss: 0.5481 - val_accuracy: 0.7228\n",
      "\n",
      "model id: 8:\n",
      "{'layers': 2, 'layer_size': 256, 'learn_rate': 0.01}\n",
      "Epoch 1/4\n",
      "1845/1845 [==============================] - 3s 1ms/step - loss: 0.5941 - accuracy: 0.6839 - val_loss: 0.5921 - val_accuracy: 0.6873\n",
      "Epoch 2/4\n",
      "1845/1845 [==============================] - 2s 1ms/step - loss: 0.5471 - accuracy: 0.7236 - val_loss: 0.5736 - val_accuracy: 0.6959\n",
      "Epoch 3/4\n",
      "1845/1845 [==============================] - 2s 1ms/step - loss: 0.5362 - accuracy: 0.7327 - val_loss: 0.5617 - val_accuracy: 0.7061\n",
      "Epoch 4/4\n",
      "1845/1845 [==============================] - 2s 1ms/step - loss: 0.5326 - accuracy: 0.7365 - val_loss: 0.5628 - val_accuracy: 0.7168\n",
      "\n",
      "model id: 9:\n",
      "{'layers': 3, 'layer_size': 64, 'learn_rate': 0.001}\n",
      "Epoch 1/4\n",
      "1845/1845 [==============================] - 3s 1ms/step - loss: 0.5826 - accuracy: 0.6880 - val_loss: 0.5630 - val_accuracy: 0.7148\n",
      "Epoch 2/4\n",
      "1845/1845 [==============================] - 2s 1ms/step - loss: 0.5307 - accuracy: 0.7361 - val_loss: 0.5442 - val_accuracy: 0.7302\n",
      "Epoch 3/4\n",
      "1845/1845 [==============================] - 2s 1ms/step - loss: 0.5155 - accuracy: 0.7477 - val_loss: 0.5448 - val_accuracy: 0.7275\n",
      "Epoch 4/4\n",
      "1845/1845 [==============================] - 2s 1ms/step - loss: 0.5096 - accuracy: 0.7505 - val_loss: 0.5394 - val_accuracy: 0.7281\n",
      "\n",
      "model id: 10:\n",
      "{'layers': 3, 'layer_size': 64, 'learn_rate': 0.003}\n",
      "Epoch 1/4\n",
      "1845/1845 [==============================] - 3s 1ms/step - loss: 0.5808 - accuracy: 0.6954 - val_loss: 0.5865 - val_accuracy: 0.6943\n",
      "Epoch 2/4\n",
      "1845/1845 [==============================] - 2s 1ms/step - loss: 0.5351 - accuracy: 0.7307 - val_loss: 0.5573 - val_accuracy: 0.7159\n",
      "Epoch 3/4\n",
      "1845/1845 [==============================] - 2s 1ms/step - loss: 0.5254 - accuracy: 0.7376 - val_loss: 0.5447 - val_accuracy: 0.7325\n",
      "Epoch 4/4\n",
      "1845/1845 [==============================] - 2s 1ms/step - loss: 0.5208 - accuracy: 0.7424 - val_loss: 0.5433 - val_accuracy: 0.7294\n",
      "\n",
      "model id: 11:\n",
      "{'layers': 3, 'layer_size': 64, 'learn_rate': 0.01}\n",
      "Epoch 1/4\n",
      "1845/1845 [==============================] - 3s 1ms/step - loss: 0.5877 - accuracy: 0.6886 - val_loss: 0.5611 - val_accuracy: 0.7227\n",
      "Epoch 2/4\n",
      "1845/1845 [==============================] - 2s 1ms/step - loss: 0.5448 - accuracy: 0.7259 - val_loss: 0.5461 - val_accuracy: 0.7312\n",
      "Epoch 3/4\n",
      "1845/1845 [==============================] - 2s 1ms/step - loss: 0.5346 - accuracy: 0.7336 - val_loss: 0.5514 - val_accuracy: 0.7247\n",
      "Epoch 4/4\n",
      "1845/1845 [==============================] - 2s 1ms/step - loss: 0.5314 - accuracy: 0.7379 - val_loss: 0.5459 - val_accuracy: 0.7323\n",
      "\n",
      "model id: 12:\n",
      "{'layers': 3, 'layer_size': 128, 'learn_rate': 0.001}\n",
      "Epoch 1/4\n",
      "1845/1845 [==============================] - 3s 1ms/step - loss: 0.5771 - accuracy: 0.6928 - val_loss: 0.6104 - val_accuracy: 0.6794\n",
      "Epoch 2/4\n",
      "1845/1845 [==============================] - 2s 1ms/step - loss: 0.5294 - accuracy: 0.7370 - val_loss: 0.5499 - val_accuracy: 0.7186\n",
      "Epoch 3/4\n",
      "1845/1845 [==============================] - 2s 1ms/step - loss: 0.5193 - accuracy: 0.7438 - val_loss: 0.5460 - val_accuracy: 0.7290\n",
      "Epoch 4/4\n"
     ]
    },
    {
     "name": "stdout",
     "output_type": "stream",
     "text": [
      "1845/1845 [==============================] - 2s 1ms/step - loss: 0.5120 - accuracy: 0.7496 - val_loss: 0.5691 - val_accuracy: 0.7264\n",
      "\n",
      "model id: 13:\n",
      "{'layers': 3, 'layer_size': 128, 'learn_rate': 0.003}\n",
      "Epoch 1/4\n",
      "1845/1845 [==============================] - 3s 1ms/step - loss: 0.5807 - accuracy: 0.6903 - val_loss: 0.5734 - val_accuracy: 0.6976\n",
      "Epoch 2/4\n",
      "1845/1845 [==============================] - 2s 1ms/step - loss: 0.5351 - accuracy: 0.7325 - val_loss: 0.5482 - val_accuracy: 0.7288\n",
      "Epoch 3/4\n",
      "1845/1845 [==============================] - 2s 1ms/step - loss: 0.5263 - accuracy: 0.7369 - val_loss: 0.5577 - val_accuracy: 0.7227\n",
      "Epoch 4/4\n",
      "1845/1845 [==============================] - 2s 1ms/step - loss: 0.5208 - accuracy: 0.7422 - val_loss: 0.5419 - val_accuracy: 0.7283\n",
      "\n",
      "model id: 14:\n",
      "{'layers': 3, 'layer_size': 128, 'learn_rate': 0.01}\n",
      "Epoch 1/4\n",
      "1845/1845 [==============================] - 3s 1ms/step - loss: 0.5996 - accuracy: 0.6719 - val_loss: 0.5749 - val_accuracy: 0.7068\n",
      "Epoch 2/4\n",
      "1845/1845 [==============================] - 2s 1ms/step - loss: 0.5494 - accuracy: 0.7222 - val_loss: 0.5658 - val_accuracy: 0.7113\n",
      "Epoch 3/4\n",
      "1845/1845 [==============================] - 2s 1ms/step - loss: 0.5381 - accuracy: 0.7306 - val_loss: 0.5615 - val_accuracy: 0.7164\n",
      "Epoch 4/4\n",
      "1845/1845 [==============================] - 2s 1ms/step - loss: 0.5314 - accuracy: 0.7351 - val_loss: 0.5482 - val_accuracy: 0.7243\n",
      "\n",
      "model id: 15:\n",
      "{'layers': 3, 'layer_size': 256, 'learn_rate': 0.001}\n",
      "Epoch 1/4\n",
      "1845/1845 [==============================] - 3s 1ms/step - loss: 0.5729 - accuracy: 0.6973 - val_loss: 0.5505 - val_accuracy: 0.7255\n",
      "Epoch 2/4\n",
      "1845/1845 [==============================] - 3s 1ms/step - loss: 0.5306 - accuracy: 0.7357 - val_loss: 0.5601 - val_accuracy: 0.7187\n",
      "Epoch 3/4\n",
      "1845/1845 [==============================] - 3s 1ms/step - loss: 0.5167 - accuracy: 0.7446 - val_loss: 0.5421 - val_accuracy: 0.7279\n",
      "Epoch 4/4\n",
      "1845/1845 [==============================] - 3s 1ms/step - loss: 0.5129 - accuracy: 0.7490 - val_loss: 0.5501 - val_accuracy: 0.7298\n",
      "\n",
      "model id: 16:\n",
      "{'layers': 3, 'layer_size': 256, 'learn_rate': 0.003}\n",
      "Epoch 1/4\n",
      "1845/1845 [==============================] - 3s 2ms/step - loss: 0.5779 - accuracy: 0.6971 - val_loss: 0.6084 - val_accuracy: 0.7004\n",
      "Epoch 2/4\n",
      "1845/1845 [==============================] - 3s 1ms/step - loss: 0.5371 - accuracy: 0.7293 - val_loss: 0.5688 - val_accuracy: 0.7137\n",
      "Epoch 3/4\n",
      "1845/1845 [==============================] - 3s 1ms/step - loss: 0.5264 - accuracy: 0.7394 - val_loss: 0.5395 - val_accuracy: 0.7306\n",
      "Epoch 4/4\n",
      "1845/1845 [==============================] - 3s 1ms/step - loss: 0.5226 - accuracy: 0.7424 - val_loss: 0.5567 - val_accuracy: 0.7102\n",
      "\n",
      "model id: 17:\n",
      "{'layers': 3, 'layer_size': 256, 'learn_rate': 0.01}\n",
      "Epoch 1/4\n",
      "1845/1845 [==============================] - 3s 1ms/step - loss: 0.6105 - accuracy: 0.6646 - val_loss: 0.5873 - val_accuracy: 0.7107\n",
      "Epoch 2/4\n",
      "1845/1845 [==============================] - 3s 1ms/step - loss: 0.5574 - accuracy: 0.7198 - val_loss: 0.5727 - val_accuracy: 0.7006\n",
      "Epoch 3/4\n",
      "1845/1845 [==============================] - 3s 1ms/step - loss: 0.5371 - accuracy: 0.7340 - val_loss: 0.5459 - val_accuracy: 0.7285\n",
      "Epoch 4/4\n",
      "1845/1845 [==============================] - 3s 1ms/step - loss: 0.5366 - accuracy: 0.7350 - val_loss: 0.5430 - val_accuracy: 0.7304\n"
     ]
    }
   ],
   "source": [
    "%rm -rf hparams\n",
    "test_params()"
   ]
  },
  {
   "cell_type": "code",
   "execution_count": 47,
   "id": "0f263e77",
   "metadata": {},
   "outputs": [
    {
     "name": "stdout",
     "output_type": "stream",
     "text": [
      "The tensorboard extension is already loaded. To reload it, use:\n",
      "  %reload_ext tensorboard\n"
     ]
    },
    {
     "data": {
      "text/plain": [
       "Reusing TensorBoard on port 6006 (pid 69402), started 2 days, 23:08:51 ago. (Use '!kill 69402' to kill it.)"
      ]
     },
     "metadata": {},
     "output_type": "display_data"
    },
    {
     "data": {
      "text/html": [
       "\n",
       "      <iframe id=\"tensorboard-frame-c56144587550713c\" width=\"100%\" height=\"800\" frameborder=\"0\">\n",
       "      </iframe>\n",
       "      <script>\n",
       "        (function() {\n",
       "          const frame = document.getElementById(\"tensorboard-frame-c56144587550713c\");\n",
       "          const url = new URL(\"/\", window.location);\n",
       "          const port = 6006;\n",
       "          if (port) {\n",
       "            url.port = port;\n",
       "          }\n",
       "          frame.src = url;\n",
       "        })();\n",
       "      </script>\n",
       "    "
      ],
      "text/plain": [
       "<IPython.core.display.HTML object>"
      ]
     },
     "metadata": {},
     "output_type": "display_data"
    }
   ],
   "source": [
    "%load_ext tensorboard\n",
    "%tensorboard --logdir hparams"
   ]
  },
  {
   "cell_type": "markdown",
   "id": "5f2d1c3e",
   "metadata": {},
   "source": [
    "# Test"
   ]
  },
  {
   "cell_type": "code",
   "execution_count": null,
   "id": "4fd39266",
   "metadata": {},
   "outputs": [],
   "source": [
    "test_x1 = np.vstack(test_x1s)\n",
    "test_x2 = np.vstack(test_x2s)\n",
    "test_x3 = np.vstack(test_x3s)\n",
    "test_x4 = np.vstack(test_x4s)\n",
    "test_y = np.vstack(test_ys)"
   ]
  },
  {
   "cell_type": "code",
   "execution_count": null,
   "id": "c253242e",
   "metadata": {},
   "outputs": [],
   "source": [
    "test_loss, test_accuracy = model.evaluate([test_x1, test_x2, test_x3, test_x4], test_y)\n",
    "print('test loss', test_loss)\n",
    "print('test accuracy', test_accuracy)"
   ]
  },
  {
   "cell_type": "code",
   "execution_count": null,
   "id": "a5bd6708",
   "metadata": {},
   "outputs": [],
   "source": [
    "model.save('mlp_model')"
   ]
  }
 ],
 "metadata": {
  "kernelspec": {
   "display_name": "Python 3 (ipykernel)",
   "language": "python",
   "name": "python3"
  },
  "language_info": {
   "codemirror_mode": {
    "name": "ipython",
    "version": 3
   },
   "file_extension": ".py",
   "mimetype": "text/x-python",
   "name": "python",
   "nbconvert_exporter": "python",
   "pygments_lexer": "ipython3",
   "version": "3.8.5"
  }
 },
 "nbformat": 4,
 "nbformat_minor": 5
}
