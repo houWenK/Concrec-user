{
 "cells": [
  {
   "cell_type": "code",
   "execution_count": 1,
   "id": "18223095",
   "metadata": {},
   "outputs": [],
   "source": [
    "import pyspark\n",
    "from pyspark import SparkContext\n",
    "from pyspark.sql import SparkSession\n",
    "from pyspark.sql.functions import *"
   ]
  },
  {
   "cell_type": "code",
   "execution_count": 2,
   "id": "a0b62921",
   "metadata": {},
   "outputs": [
    {
     "name": "stderr",
     "output_type": "stream",
     "text": [
      "21/11/11 17:13:27 WARN Utils: Your hostname, Daniels-MacBook-Pro.local resolves to a loopback address: 127.0.0.1; using 192.168.1.5 instead (on interface en0)\n",
      "21/11/11 17:13:27 WARN Utils: Set SPARK_LOCAL_IP if you need to bind to another address\n",
      "21/11/11 17:13:28 WARN NativeCodeLoader: Unable to load native-hadoop library for your platform... using builtin-java classes where applicable\n",
      "Using Spark's default log4j profile: org/apache/spark/log4j-defaults.properties\n",
      "Setting default log level to \"WARN\".\n",
      "To adjust logging level use sc.setLogLevel(newLevel). For SparkR, use setLogLevel(newLevel).\n"
     ]
    }
   ],
   "source": [
    "spark = SparkSession \\\n",
    "    .builder \\\n",
    "    .appName(\"concrec-rank\") \\\n",
    "    .config(\"spark.driver.memory\", \"11g\") \\\n",
    "    .getOrCreate()"
   ]
  },
  {
   "cell_type": "markdown",
   "id": "9e3882ff",
   "metadata": {},
   "source": [
    "# Load Data"
   ]
  },
  {
   "cell_type": "code",
   "execution_count": 3,
   "id": "a88e1906",
   "metadata": {},
   "outputs": [
    {
     "name": "stdout",
     "output_type": "stream",
     "text": [
      "root\n",
      " |-- anime_id: integer (nullable = true)\n",
      " |-- name: string (nullable = true)\n",
      " |-- genre: string (nullable = true)\n",
      " |-- type: string (nullable = true)\n",
      " |-- episodes: string (nullable = true)\n",
      " |-- all_rating: double (nullable = true)\n",
      " |-- members: integer (nullable = true)\n",
      " |-- japanese_title: string (nullable = true)\n",
      " |-- aired: string (nullable = true)\n",
      " |-- image_url: string (nullable = true)\n",
      " |-- aired_from: integer (nullable = true)\n",
      " |-- aired_to: integer (nullable = true)\n",
      "\n"
     ]
    }
   ],
   "source": [
    "from pyspark.sql.types import IntegerType\n",
    "\n",
    "anime_df = spark.read.csv('../../data/anime/parsed_anime.csv', header=True, inferSchema=True)\n",
    "anime_df = anime_df.withColumn('aired_from', col('aired_from').cast('int'))\n",
    "\n",
    "# rename rating to all_rating\n",
    "anime_df = anime_df.withColumnRenamed('rating', 'all_rating')\n",
    "\n",
    "anime_df.printSchema()"
   ]
  },
  {
   "cell_type": "code",
   "execution_count": 4,
   "id": "d352fffe",
   "metadata": {},
   "outputs": [
    {
     "name": "stderr",
     "output_type": "stream",
     "text": [
      "[Stage 3:====>                                                    (1 + 11) / 12]\r"
     ]
    },
    {
     "name": "stdout",
     "output_type": "stream",
     "text": [
      "root\n",
      " |-- user_id: integer (nullable = true)\n",
      " |-- anime_id: integer (nullable = true)\n",
      " |-- rating: integer (nullable = true)\n",
      "\n"
     ]
    },
    {
     "name": "stderr",
     "output_type": "stream",
     "text": [
      "\r",
      "[Stage 3:====================================================>    (11 + 1) / 12]\r",
      "\r",
      "                                                                                \r"
     ]
    }
   ],
   "source": [
    "rating_df = spark.read.csv('../../data/anime/rating.csv', header=True, inferSchema=True)\n",
    "rating_df = rating_df.filter(rating_df['rating'] > 0)\n",
    "rating_df.printSchema()"
   ]
  },
  {
   "cell_type": "code",
   "execution_count": 5,
   "id": "f0f9aa4e",
   "metadata": {},
   "outputs": [],
   "source": [
    "like_threshold = 7.5\n",
    "\n",
    "merged_df =  rating_df.join(\n",
    "    anime_df.select('anime_id', 'name', 'genre', 'type', 'episodes', \n",
    "                    'all_rating', 'members', 'aired_from', 'aired_to'),\n",
    "    on=['anime_id'], how='left'\n",
    ").withColumn(\n",
    "    'label',\n",
    "    when(col('rating') >= like_threshold, 1).otherwise(0)\n",
    ")"
   ]
  },
  {
   "cell_type": "markdown",
   "id": "45da9709",
   "metadata": {},
   "source": [
    "# Feature Builder"
   ]
  },
  {
   "cell_type": "markdown",
   "id": "a1cc2c2b",
   "metadata": {},
   "source": [
    "### 1. numeric features: min-max"
   ]
  },
  {
   "cell_type": "code",
   "execution_count": 6,
   "id": "d133e27a",
   "metadata": {},
   "outputs": [],
   "source": [
    "from pyspark.ml.feature import MinMaxScaler, VectorAssembler\n",
    "from pyspark.ml import Pipeline\n",
    "import pyspark.sql.types as types\n",
    "from pyspark.sql import functions as F"
   ]
  },
  {
   "cell_type": "code",
   "execution_count": 7,
   "id": "dbcc4ad2",
   "metadata": {},
   "outputs": [],
   "source": [
    "NUMBER_PRECISION = 2\n",
    "\n",
    "@udf(types.FloatType())\n",
    "def extract_float(l):\n",
    "    r = __builtin__.round(l[0], NUMBER_PRECISION)\n",
    "        \n",
    "    return float(r)"
   ]
  },
  {
   "cell_type": "code",
   "execution_count": 8,
   "id": "d47d4b94",
   "metadata": {},
   "outputs": [],
   "source": [
    "class NumericScaler:\n",
    "    def __init__(self, cols):\n",
    "        self.cols = cols\n",
    "        self.pipeline = self.__build_min_max_scalers(cols)\n",
    "        \n",
    "    def __build_min_max_scalers(self, cols):\n",
    "        pipelines = [self.__build_one_min_max_scaler(col) for col in cols]\n",
    "        return Pipeline(stages=pipelines)\n",
    "        \n",
    "    def __build_one_min_max_scaler(self, col):\n",
    "        output_col = f\"{col}_min_max\"\n",
    "\n",
    "        vec_assembler = VectorAssembler(inputCols=[col], outputCol=f\"{col}_vec\", handleInvalid='keep')\n",
    "        min_max_scaler = MinMaxScaler(inputCol=f\"{col}_vec\", outputCol=output_col)\n",
    "        pipeline = Pipeline(stages=[vec_assembler, min_max_scaler])\n",
    "\n",
    "        return pipeline\n",
    "        \n",
    "    def fit(self, df):\n",
    "        self.model = self.pipeline.fit(df)\n",
    "        \n",
    "    def transform(self, df):\n",
    "        result = self.model.transform(df)\n",
    "        \n",
    "        # drop all intermedia cols and convert output to float\n",
    "        for col in self.cols:\n",
    "            output_col = f\"{col}_min_max\"\n",
    "            result = result \\\n",
    "                .drop(f\"{col}_vec\") \\\n",
    "                .withColumn(output_col, extract_float(F.col(output_col)))\n",
    "            \n",
    "        return result"
   ]
  },
  {
   "cell_type": "markdown",
   "id": "48453699",
   "metadata": {},
   "source": [
    "Anime related numeric features"
   ]
  },
  {
   "cell_type": "code",
   "execution_count": 9,
   "id": "abb62ae0",
   "metadata": {},
   "outputs": [],
   "source": [
    "item_numeric_cols = [\n",
    "    'all_rating',\n",
    "    'members',\n",
    "    'aired_from',\n",
    "    'aired_to'\n",
    "]\n",
    "\n",
    "item_numeric_scaler = NumericScaler(item_numeric_cols)"
   ]
  },
  {
   "cell_type": "markdown",
   "id": "5db40fca",
   "metadata": {},
   "source": [
    "User related numeric features"
   ]
  },
  {
   "cell_type": "code",
   "execution_count": 10,
   "id": "7ea13cc6",
   "metadata": {},
   "outputs": [],
   "source": [
    "user_numeric_cols = [\n",
    "    'user_rating_ave',\n",
    "    'user_rating_std',\n",
    "    'user_aired_from_ave',\n",
    "    'user_aired_to_ave'\n",
    "]"
   ]
  },
  {
   "cell_type": "code",
   "execution_count": 11,
   "id": "cea34c64",
   "metadata": {},
   "outputs": [],
   "source": [
    "user_numeric_scaler = NumericScaler(user_numeric_cols)"
   ]
  },
  {
   "cell_type": "code",
   "execution_count": null,
   "id": "785e6982",
   "metadata": {},
   "outputs": [],
   "source": []
  },
  {
   "cell_type": "markdown",
   "id": "714afc36",
   "metadata": {},
   "source": [
    "### 3. categorical data - multihot"
   ]
  },
  {
   "cell_type": "code",
   "execution_count": 12,
   "id": "b5cba817",
   "metadata": {},
   "outputs": [],
   "source": [
    "from pyspark.ml.feature import StringIndexer, OneHotEncoder\n",
    "import pyspark.sql.types as types\n",
    "from pyspark.ml.linalg import SparseVector\n",
    "import numpy as np"
   ]
  },
  {
   "cell_type": "code",
   "execution_count": 13,
   "id": "b5d4c008",
   "metadata": {},
   "outputs": [],
   "source": [
    "# 用已经训练好的string index mapping对genres数组进行encode\n",
    "def encode_genres_col(index_mapping_broadcasted):\n",
    "    @udf(returnType='array<int>')\n",
    "    def encode_genres_col(genres, max_genre_index):\n",
    "        if genres is None:\n",
    "            genres = []\n",
    "        gen_vec = [index_mapping_broadcasted.value.get(gen) for gen in genres]\n",
    "        gen_vec = list(set(gen_vec)) # dedup\n",
    "\n",
    "        # convert genre vector to multi-hot\n",
    "        fill = np.ones(len(gen_vec), dtype=np.int32)\n",
    "        sorted_index = np.sort(gen_vec)\n",
    "        multihot_vec = SparseVector(max_genre_index + 1, sorted_index, fill)\n",
    "        return multihot_vec.toArray().astype(np.int32).tolist()\n",
    "    \n",
    "    return encode_genres_col"
   ]
  },
  {
   "cell_type": "code",
   "execution_count": 14,
   "id": "ab1042f3",
   "metadata": {},
   "outputs": [],
   "source": [
    "class CategoricalEncoder:\n",
    "    def __init__(self, colname):\n",
    "        self.colname = colname\n",
    "    \n",
    "    def fit(self, df):\n",
    "        exploded_df = df.withColumn(\n",
    "            'genre_item',\n",
    "            explode(col('genres'))\n",
    "        )\n",
    "        \n",
    "        genre_string_indexer = StringIndexer(inputCol='genre_item', outputCol='genre_index')\n",
    "        indexer_model = genre_string_indexer.fit(exploded_df)\n",
    "        \n",
    "        # get mapping from string indexer\n",
    "        gens_df = spark.createDataFrame(\n",
    "            [{'genre_item': g} for g in indexer_model.labels]\n",
    "        )\n",
    "        mapping_df = indexer_model.transform(gens_df).collect()\n",
    "        mapping_dict = {row.genre_item: int(row.genre_index) for row in mapping_df}\n",
    "        self.max_genre_index = __builtin__.max(mapping_dict.values())\n",
    "        broadcasted = spark.sparkContext.broadcast(mapping_dict)\n",
    "        \n",
    "        self.encode_fn = encode_genres_col(broadcasted)\n",
    "        \n",
    "    def transform(self, df):\n",
    "        return df \\\n",
    "            .withColumn(\n",
    "                f\"{self.colname}_multihot\", \n",
    "                self.encode_fn(col(self.colname), lit(self.max_genre_index))\n",
    "            )\n",
    "        \n",
    "        "
   ]
  },
  {
   "cell_type": "markdown",
   "id": "7f88b4e8",
   "metadata": {},
   "source": [
    "Anime categorical encoder"
   ]
  },
  {
   "cell_type": "code",
   "execution_count": 15,
   "id": "191df510",
   "metadata": {},
   "outputs": [],
   "source": [
    "item_categorical_encoder = CategoricalEncoder('genres')"
   ]
  },
  {
   "cell_type": "markdown",
   "id": "17453823",
   "metadata": {},
   "source": [
    "User categorical encoder"
   ]
  },
  {
   "cell_type": "code",
   "execution_count": 16,
   "id": "0827a0d8",
   "metadata": {},
   "outputs": [],
   "source": [
    "user_categorical_encoder = CategoricalEncoder('user_liked_genres')"
   ]
  },
  {
   "cell_type": "markdown",
   "id": "b59c6023",
   "metadata": {},
   "source": [
    "# Build Dataset for DNN Training"
   ]
  },
  {
   "cell_type": "code",
   "execution_count": 17,
   "id": "3d21ceea",
   "metadata": {},
   "outputs": [],
   "source": [
    "from pyspark.sql.window import Window"
   ]
  },
  {
   "cell_type": "code",
   "execution_count": 18,
   "id": "53d93693",
   "metadata": {},
   "outputs": [],
   "source": [
    "# 帮助方法：对于某一列，在聚合的时候，如果用户不喜欢这个电影，则不聚合这个电影的信息\n",
    "likedMoviesCol = lambda colname: when(col('label') == 1, col(colname)).otherwise(lit(None))\n",
    "\n",
    "\n",
    "@udf(returnType='array<string>')\n",
    "def genre_to_list(gen_str):\n",
    "    if gen_str is None:\n",
    "        return []\n",
    "    \n",
    "    gens = gen_str.split(\",\")\n",
    "    return [gen.strip() for gen in gens]\n",
    "\n",
    "\n",
    "@udf(types.ArrayType(types.StringType()))\n",
    "def most_liked_genres(gen_strs):\n",
    "    \"\"\"\n",
    "    gen_strs = [\"Action, Adventure, Drama\", \"Comedy, Drama, School\"]\n",
    "    \"\"\"\n",
    "    gens = [s.split(\",\") for s in gen_strs]\n",
    "    gens = [x for l in gens for x in l] # flatten\n",
    "    gens = [s.strip() for s in gens]\n",
    "    \n",
    "    gen_set = set(gens)\n",
    "    count_occur = lambda gen, l: len([g for g in l if g == gen])\n",
    "    gen_with_occur = [(gen, count_occur(gen, gens)) for gen in gen_set]\n",
    "    gen_with_occur.sort(key=lambda x: x[1], reverse=True)\n",
    "    \n",
    "    # pick 5 most liked genres\n",
    "    return [x[0] for x in gen_with_occur[:5]]"
   ]
  },
  {
   "cell_type": "code",
   "execution_count": 19,
   "id": "754e16db",
   "metadata": {},
   "outputs": [],
   "source": [
    "windowSpec = Window \\\n",
    "    .partitionBy('user_id') \\\n",
    "    .orderBy('aired_from') \\\n",
    "    .rowsBetween(-100, -1)"
   ]
  },
  {
   "cell_type": "code",
   "execution_count": 20,
   "id": "6a9315e3",
   "metadata": {
    "scrolled": false
   },
   "outputs": [],
   "source": [
    "feat_df = merged_df \\\n",
    "    .withColumn('genres', genre_to_list(col('genre'))) \\\n",
    "    .withColumn('user_rating_cnt', count(lit(1)).over(windowSpec)) \\\n",
    "    .withColumn('user_rating_ave', mean(col('rating')).over(windowSpec)) \\\n",
    "    .withColumn('user_rating_ave', F.round(col('user_rating_ave'), NUMBER_PRECISION)) \\\n",
    "    .withColumn('user_rating_std', stddev(col('rating')).over(windowSpec)) \\\n",
    "    .withColumn('user_rating_std', F.round(col('user_rating_std'), NUMBER_PRECISION)) \\\n",
    "    .withColumn('user_aired_from_ave', mean(likedMoviesCol('aired_from')).over(windowSpec)) \\\n",
    "    .withColumn('user_aired_from_ave', F.round(col('user_aired_from_ave'), 0)) \\\n",
    "    .withColumn('user_aired_to_ave', mean(likedMoviesCol('aired_to')).over(windowSpec)) \\\n",
    "    .withColumn('user_aired_to_ave', F.round(col('user_aired_to_ave'), 0)) \\\n",
    "    .withColumn('user_liked_genres', most_liked_genres(collect_list(likedMoviesCol('genre')).over(windowSpec)))"
   ]
  },
  {
   "cell_type": "code",
   "execution_count": 21,
   "id": "5be2a5d1",
   "metadata": {
    "scrolled": true
   },
   "outputs": [
    {
     "name": "stderr",
     "output_type": "stream",
     "text": [
      "[Stage 5:======================================>                   (8 + 4) / 12]\r"
     ]
    },
    {
     "name": "stdout",
     "output_type": "stream",
     "text": [
      "-RECORD 0-----------------------------------\n",
      " anime_id            | 1090                 \n",
      " user_id             | 148                  \n",
      " rating              | 6                    \n",
      " name                | Mobile Suit Gundam I \n",
      " genre               | Action, Adventure... \n",
      " type                | Movie                \n",
      " episodes            | 1                    \n",
      " all_rating          | 7.43                 \n",
      " members             | 12877                \n",
      " aired_from          | 353347200            \n",
      " aired_to            | 353347200            \n",
      " label               | 0                    \n",
      " genres              | [Action, Adventur... \n",
      " user_rating_cnt     | 0                    \n",
      " user_rating_ave     | null                 \n",
      " user_rating_std     | null                 \n",
      " user_aired_from_ave | null                 \n",
      " user_aired_to_ave   | null                 \n",
      " user_liked_genres   | []                   \n",
      "-RECORD 1-----------------------------------\n",
      " anime_id            | 1091                 \n",
      " user_id             | 148                  \n",
      " rating              | 6                    \n",
      " name                | Mobile Suit Gunda... \n",
      " genre               | Action, Drama, Me... \n",
      " type                | Movie                \n",
      " episodes            | 1                    \n",
      " all_rating          | 7.56                 \n",
      " members             | 11325                \n",
      " aired_from          | 363628800            \n",
      " aired_to            | 363628800            \n",
      " label               | 0                    \n",
      " genres              | [Action, Drama, M... \n",
      " user_rating_cnt     | 1                    \n",
      " user_rating_ave     | 6.0                  \n",
      " user_rating_std     | null                 \n",
      " user_aired_from_ave | null                 \n",
      " user_aired_to_ave   | null                 \n",
      " user_liked_genres   | []                   \n",
      "-RECORD 2-----------------------------------\n",
      " anime_id            | 1092                 \n",
      " user_id             | 148                  \n",
      " rating              | 6                    \n",
      " name                | Mobile Suit Gunda... \n",
      " genre               | Action, Adventure... \n",
      " type                | Movie                \n",
      " episodes            | 1                    \n",
      " all_rating          | 7.89                 \n",
      " members             | 11343                \n",
      " aired_from          | 384796800            \n",
      " aired_to            | 384796800            \n",
      " label               | 0                    \n",
      " genres              | [Action, Adventur... \n",
      " user_rating_cnt     | 2                    \n",
      " user_rating_ave     | 6.0                  \n",
      " user_rating_std     | 0.0                  \n",
      " user_aired_from_ave | null                 \n",
      " user_aired_to_ave   | null                 \n",
      " user_liked_genres   | []                   \n",
      "-RECORD 3-----------------------------------\n",
      " anime_id            | 813                  \n",
      " user_id             | 148                  \n",
      " rating              | 10                   \n",
      " name                | Dragon Ball Z        \n",
      " genre               | Action, Adventure... \n",
      " type                | TV                   \n",
      " episodes            | 291                  \n",
      " all_rating          | 8.32                 \n",
      " members             | 375662               \n",
      " aired_from          | 609519600            \n",
      " aired_to            | 823017600            \n",
      " label               | 1                    \n",
      " genres              | [Action, Adventur... \n",
      " user_rating_cnt     | 3                    \n",
      " user_rating_ave     | 6.0                  \n",
      " user_rating_std     | 0.0                  \n",
      " user_aired_from_ave | null                 \n",
      " user_aired_to_ave   | null                 \n",
      " user_liked_genres   | []                   \n",
      "-RECORD 4-----------------------------------\n",
      " anime_id            | 170                  \n",
      " user_id             | 148                  \n",
      " rating              | 9                    \n",
      " name                | Slam Dunk            \n",
      " genre               | Comedy, Drama, Sc... \n",
      " type                | TV                   \n",
      " episodes            | 101                  \n",
      " all_rating          | 8.56                 \n",
      " members             | 82570                \n",
      " aired_from          | 750700800            \n",
      " aired_to            | 827510400            \n",
      " label               | 1                    \n",
      " genres              | [Comedy, Drama, S... \n",
      " user_rating_cnt     | 4                    \n",
      " user_rating_ave     | 7.0                  \n",
      " user_rating_std     | 2.0                  \n",
      " user_aired_from_ave | 6.095196E8           \n",
      " user_aired_to_ave   | 8.230176E8           \n",
      " user_liked_genres   | [Comedy, Adventur... \n",
      "only showing top 5 rows\n",
      "\n"
     ]
    },
    {
     "name": "stderr",
     "output_type": "stream",
     "text": [
      "\r",
      "[Stage 6:>                                                          (0 + 1) / 1]\r",
      "\r",
      "                                                                                \r"
     ]
    }
   ],
   "source": [
    "feat_df.show(5, vertical=True)"
   ]
  },
  {
   "cell_type": "code",
   "execution_count": null,
   "id": "b9ad9dd0",
   "metadata": {},
   "outputs": [],
   "source": []
  },
  {
   "cell_type": "code",
   "execution_count": null,
   "id": "f3c2db5d",
   "metadata": {},
   "outputs": [],
   "source": []
  },
  {
   "cell_type": "markdown",
   "id": "2b849b37",
   "metadata": {},
   "source": [
    "# Train"
   ]
  },
  {
   "cell_type": "markdown",
   "id": "5a3d3e57",
   "metadata": {},
   "source": [
    "1. Train item numeric"
   ]
  },
  {
   "cell_type": "code",
   "execution_count": 22,
   "id": "ee1acfba",
   "metadata": {},
   "outputs": [
    {
     "name": "stderr",
     "output_type": "stream",
     "text": [
      "Traceback (most recent call last):\n",
      "  File \"/Users/daniel/Programs/machine-learning/recsys-lecture/concrec/rank-service/venv/lib/python3.8/site-packages/pyspark/python/lib/pyspark.zip/pyspark/daemon.py\", line 186, in manager\n",
      "  File \"/Users/daniel/Programs/machine-learning/recsys-lecture/concrec/rank-service/venv/lib/python3.8/site-packages/pyspark/python/lib/pyspark.zip/pyspark/daemon.py\", line 74, in worker\n",
      "  File \"/Users/daniel/Programs/machine-learning/recsys-lecture/concrec/rank-service/venv/lib/python3.8/site-packages/pyspark/python/lib/pyspark.zip/pyspark/worker.py\", line 643, in main\n",
      "    if read_int(infile) == SpecialLengths.END_OF_STREAM:\n",
      "  File \"/Users/daniel/Programs/machine-learning/recsys-lecture/concrec/rank-service/venv/lib/python3.8/site-packages/pyspark/python/lib/pyspark.zip/pyspark/serializers.py\", line 564, in read_int\n",
      "    raise EOFError\n",
      "EOFError\n",
      "                                                                                \r"
     ]
    }
   ],
   "source": [
    "item_numeric_scaler.fit(feat_df)"
   ]
  },
  {
   "cell_type": "markdown",
   "id": "c48e89df",
   "metadata": {},
   "source": [
    "2. Train user numeric"
   ]
  },
  {
   "cell_type": "code",
   "execution_count": 23,
   "id": "38b1bcce",
   "metadata": {},
   "outputs": [
    {
     "name": "stderr",
     "output_type": "stream",
     "text": [
      "                                                                                \r"
     ]
    }
   ],
   "source": [
    "user_numeric_scaler.fit(feat_df)"
   ]
  },
  {
   "cell_type": "markdown",
   "id": "704172f5",
   "metadata": {},
   "source": [
    "3. Train item categorical"
   ]
  },
  {
   "cell_type": "code",
   "execution_count": 24,
   "id": "0993546d",
   "metadata": {},
   "outputs": [
    {
     "name": "stderr",
     "output_type": "stream",
     "text": [
      "/Users/daniel/Programs/machine-learning/recsys-lecture/concrec/rank-service/venv/lib/python3.8/site-packages/pandas/compat/__init__.py:124: UserWarning: Could not import the lzma module. Your installed Python is incomplete. Attempting to use lzma compression will result in a RuntimeError.\n",
      "  warnings.warn(msg)\n"
     ]
    }
   ],
   "source": [
    "item_categorical_encoder.fit(feat_df)"
   ]
  },
  {
   "cell_type": "markdown",
   "id": "431a9b03",
   "metadata": {},
   "source": [
    "4. Train user categorical"
   ]
  },
  {
   "cell_type": "code",
   "execution_count": 25,
   "id": "0fba02f6",
   "metadata": {},
   "outputs": [
    {
     "name": "stderr",
     "output_type": "stream",
     "text": [
      "                                                                                \r"
     ]
    }
   ],
   "source": [
    "user_categorical_encoder.fit(feat_df)"
   ]
  },
  {
   "cell_type": "markdown",
   "id": "d9682017",
   "metadata": {},
   "source": [
    "# Transform"
   ]
  },
  {
   "cell_type": "markdown",
   "id": "b090743c",
   "metadata": {},
   "source": [
    "## Transform data for DNN Training"
   ]
  },
  {
   "cell_type": "markdown",
   "id": "91010ecb",
   "metadata": {},
   "source": [
    "1. item & user numeric"
   ]
  },
  {
   "cell_type": "code",
   "execution_count": 26,
   "id": "4df7c682",
   "metadata": {},
   "outputs": [],
   "source": [
    "transformed_df = item_numeric_scaler.transform(feat_df)\n",
    "transformed_df = user_numeric_scaler.transform(transformed_df)"
   ]
  },
  {
   "cell_type": "code",
   "execution_count": 27,
   "id": "34cb53ce",
   "metadata": {
    "scrolled": true
   },
   "outputs": [
    {
     "name": "stderr",
     "output_type": "stream",
     "text": [
      "21/11/11 17:15:34 WARN package: Truncated the string representation of a plan since it was too large. This behavior can be adjusted by setting 'spark.sql.debug.maxToStringFields'.\n",
      "[Stage 45:>                                                         (0 + 1) / 1]\r"
     ]
    },
    {
     "name": "stdout",
     "output_type": "stream",
     "text": [
      "-RECORD 0-------------------------------------------\n",
      " anime_id                    | 1090                 \n",
      " user_id                     | 148                  \n",
      " rating                      | 6                    \n",
      " name                        | Mobile Suit Gundam I \n",
      " genre                       | Action, Adventure... \n",
      " type                        | Movie                \n",
      " episodes                    | 1                    \n",
      " all_rating                  | 7.43                 \n",
      " members                     | 12877                \n",
      " aired_from                  | 353347200            \n",
      " aired_to                    | 353347200            \n",
      " label                       | 0                    \n",
      " genres                      | [Action, Adventur... \n",
      " user_rating_cnt             | 0                    \n",
      " user_rating_ave             | null                 \n",
      " user_rating_std             | null                 \n",
      " user_aired_from_ave         | null                 \n",
      " user_aired_to_ave           | null                 \n",
      " user_liked_genres           | []                   \n",
      " all_rating_min_max          | 0.74                 \n",
      " members_min_max             | 0.01                 \n",
      " aired_from_min_max          | 0.62                 \n",
      " aired_to_min_max            | 0.61                 \n",
      " user_rating_ave_min_max     | NaN                  \n",
      " user_rating_std_min_max     | NaN                  \n",
      " user_aired_from_ave_min_max | NaN                  \n",
      " user_aired_to_ave_min_max   | NaN                  \n",
      "-RECORD 1-------------------------------------------\n",
      " anime_id                    | 1091                 \n",
      " user_id                     | 148                  \n",
      " rating                      | 6                    \n",
      " name                        | Mobile Suit Gunda... \n",
      " genre                       | Action, Drama, Me... \n",
      " type                        | Movie                \n",
      " episodes                    | 1                    \n",
      " all_rating                  | 7.56                 \n",
      " members                     | 11325                \n",
      " aired_from                  | 363628800            \n",
      " aired_to                    | 363628800            \n",
      " label                       | 0                    \n",
      " genres                      | [Action, Drama, M... \n",
      " user_rating_cnt             | 1                    \n",
      " user_rating_ave             | 6.0                  \n",
      " user_rating_std             | null                 \n",
      " user_aired_from_ave         | null                 \n",
      " user_aired_to_ave           | null                 \n",
      " user_liked_genres           | []                   \n",
      " all_rating_min_max          | 0.75                 \n",
      " members_min_max             | 0.01                 \n",
      " aired_from_min_max          | 0.63                 \n",
      " aired_to_min_max            | 0.62                 \n",
      " user_rating_ave_min_max     | 0.56                 \n",
      " user_rating_std_min_max     | NaN                  \n",
      " user_aired_from_ave_min_max | NaN                  \n",
      " user_aired_to_ave_min_max   | NaN                  \n",
      "-RECORD 2-------------------------------------------\n",
      " anime_id                    | 1092                 \n",
      " user_id                     | 148                  \n",
      " rating                      | 6                    \n",
      " name                        | Mobile Suit Gunda... \n",
      " genre                       | Action, Adventure... \n",
      " type                        | Movie                \n",
      " episodes                    | 1                    \n",
      " all_rating                  | 7.89                 \n",
      " members                     | 11343                \n",
      " aired_from                  | 384796800            \n",
      " aired_to                    | 384796800            \n",
      " label                       | 0                    \n",
      " genres                      | [Action, Adventur... \n",
      " user_rating_cnt             | 2                    \n",
      " user_rating_ave             | 6.0                  \n",
      " user_rating_std             | 0.0                  \n",
      " user_aired_from_ave         | null                 \n",
      " user_aired_to_ave           | null                 \n",
      " user_liked_genres           | []                   \n",
      " all_rating_min_max          | 0.8                  \n",
      " members_min_max             | 0.01                 \n",
      " aired_from_min_max          | 0.63                 \n",
      " aired_to_min_max            | 0.62                 \n",
      " user_rating_ave_min_max     | 0.56                 \n",
      " user_rating_std_min_max     | 0.0                  \n",
      " user_aired_from_ave_min_max | NaN                  \n",
      " user_aired_to_ave_min_max   | NaN                  \n",
      "-RECORD 3-------------------------------------------\n",
      " anime_id                    | 813                  \n",
      " user_id                     | 148                  \n",
      " rating                      | 10                   \n",
      " name                        | Dragon Ball Z        \n",
      " genre                       | Action, Adventure... \n",
      " type                        | TV                   \n",
      " episodes                    | 291                  \n",
      " all_rating                  | 8.32                 \n",
      " members                     | 375662               \n",
      " aired_from                  | 609519600            \n",
      " aired_to                    | 823017600            \n",
      " label                       | 1                    \n",
      " genres                      | [Action, Adventur... \n",
      " user_rating_cnt             | 3                    \n",
      " user_rating_ave             | 6.0                  \n",
      " user_rating_std             | 0.0                  \n",
      " user_aired_from_ave         | null                 \n",
      " user_aired_to_ave           | null                 \n",
      " user_liked_genres           | []                   \n",
      " all_rating_min_max          | 0.86                 \n",
      " members_min_max             | 0.37                 \n",
      " aired_from_min_max          | 0.7                  \n",
      " aired_to_min_max            | 0.76                 \n",
      " user_rating_ave_min_max     | 0.56                 \n",
      " user_rating_std_min_max     | 0.0                  \n",
      " user_aired_from_ave_min_max | NaN                  \n",
      " user_aired_to_ave_min_max   | NaN                  \n",
      "-RECORD 4-------------------------------------------\n",
      " anime_id                    | 170                  \n",
      " user_id                     | 148                  \n",
      " rating                      | 9                    \n",
      " name                        | Slam Dunk            \n",
      " genre                       | Comedy, Drama, Sc... \n",
      " type                        | TV                   \n",
      " episodes                    | 101                  \n",
      " all_rating                  | 8.56                 \n",
      " members                     | 82570                \n",
      " aired_from                  | 750700800            \n",
      " aired_to                    | 827510400            \n",
      " label                       | 1                    \n",
      " genres                      | [Comedy, Drama, S... \n",
      " user_rating_cnt             | 4                    \n",
      " user_rating_ave             | 7.0                  \n",
      " user_rating_std             | 2.0                  \n",
      " user_aired_from_ave         | 6.095196E8           \n",
      " user_aired_to_ave           | 8.230176E8           \n",
      " user_liked_genres           | [Comedy, Adventur... \n",
      " all_rating_min_max          | 0.89                 \n",
      " members_min_max             | 0.08                 \n",
      " aired_from_min_max          | 0.75                 \n",
      " aired_to_min_max            | 0.76                 \n",
      " user_rating_ave_min_max     | 0.67                 \n",
      " user_rating_std_min_max     | 0.31                 \n",
      " user_aired_from_ave_min_max | 0.73                 \n",
      " user_aired_to_ave_min_max   | 0.79                 \n",
      "only showing top 5 rows\n",
      "\n"
     ]
    },
    {
     "name": "stderr",
     "output_type": "stream",
     "text": [
      "\r",
      "                                                                                \r",
      "Traceback (most recent call last):\n",
      "  File \"/Users/daniel/Programs/machine-learning/recsys-lecture/concrec/rank-service/venv/lib/python3.8/site-packages/pyspark/python/lib/pyspark.zip/pyspark/daemon.py\", line 186, in manager\n",
      "  File \"/Users/daniel/Programs/machine-learning/recsys-lecture/concrec/rank-service/venv/lib/python3.8/site-packages/pyspark/python/lib/pyspark.zip/pyspark/daemon.py\", line 74, in worker\n",
      "  File \"/Users/daniel/Programs/machine-learning/recsys-lecture/concrec/rank-service/venv/lib/python3.8/site-packages/pyspark/python/lib/pyspark.zip/pyspark/worker.py\", line 643, in main\n",
      "    if read_int(infile) == SpecialLengths.END_OF_STREAM:\n",
      "  File \"/Users/daniel/Programs/machine-learning/recsys-lecture/concrec/rank-service/venv/lib/python3.8/site-packages/pyspark/python/lib/pyspark.zip/pyspark/serializers.py\", line 564, in read_int\n",
      "    raise EOFError\n",
      "EOFError\n"
     ]
    }
   ],
   "source": [
    "transformed_df.show(5, vertical=True)"
   ]
  },
  {
   "cell_type": "markdown",
   "id": "34c3cdc7",
   "metadata": {},
   "source": [
    "2. item & user categorical"
   ]
  },
  {
   "cell_type": "code",
   "execution_count": 28,
   "id": "ebdcd52c",
   "metadata": {
    "scrolled": false
   },
   "outputs": [],
   "source": [
    "transformed_df = item_categorical_encoder.transform(transformed_df)\n",
    "transformed_df = user_categorical_encoder.transform(transformed_df)"
   ]
  },
  {
   "cell_type": "markdown",
   "id": "7651c951",
   "metadata": {},
   "source": [
    "## Transform data for Feature Serving"
   ]
  },
  {
   "cell_type": "markdown",
   "id": "d35ee99d",
   "metadata": {},
   "source": [
    "### 1. Item"
   ]
  },
  {
   "cell_type": "code",
   "execution_count": 29,
   "id": "24fbe855",
   "metadata": {},
   "outputs": [],
   "source": [
    "anime_genres_df = anime_df \\\n",
    "    .withColumn('genres', genre_to_list(col('genre')))"
   ]
  },
  {
   "cell_type": "markdown",
   "id": "c22cb60a",
   "metadata": {},
   "source": [
    "1.1 numeric"
   ]
  },
  {
   "cell_type": "code",
   "execution_count": 30,
   "id": "e1ea036b",
   "metadata": {},
   "outputs": [
    {
     "name": "stderr",
     "output_type": "stream",
     "text": [
      "Traceback (most recent call last):\n",
      "  File \"/Users/daniel/Programs/machine-learning/recsys-lecture/concrec/rank-service/venv/lib/python3.8/site-packages/pyspark/python/lib/pyspark.zip/pyspark/daemon.py\", line 186, in manager\n",
      "  File \"/Users/daniel/Programs/machine-learning/recsys-lecture/concrec/rank-service/venv/lib/python3.8/site-packages/pyspark/python/lib/pyspark.zip/pyspark/daemon.py\", line 74, in worker\n",
      "  File \"/Users/daniel/Programs/machine-learning/recsys-lecture/concrec/rank-service/venv/lib/python3.8/site-packages/pyspark/python/lib/pyspark.zip/pyspark/worker.py\", line 643, in main\n",
      "    if read_int(infile) == SpecialLengths.END_OF_STREAM:\n",
      "  File \"/Users/daniel/Programs/machine-learning/recsys-lecture/concrec/rank-service/venv/lib/python3.8/site-packages/pyspark/python/lib/pyspark.zip/pyspark/serializers.py\", line 564, in read_int\n",
      "    raise EOFError\n",
      "EOFError\n"
     ]
    }
   ],
   "source": [
    "item_numeric_transformed_df = item_numeric_scaler.transform(anime_genres_df)"
   ]
  },
  {
   "cell_type": "markdown",
   "id": "c8a3ac5f",
   "metadata": {},
   "source": [
    "1.2 categorical"
   ]
  },
  {
   "cell_type": "code",
   "execution_count": 31,
   "id": "64b08bad",
   "metadata": {
    "scrolled": false
   },
   "outputs": [],
   "source": [
    "item_both_transformed_df = item_categorical_encoder.transform(item_numeric_transformed_df)"
   ]
  },
  {
   "cell_type": "markdown",
   "id": "fd0e2247",
   "metadata": {},
   "source": [
    "### 2. User"
   ]
  },
  {
   "cell_type": "markdown",
   "id": "4b14349c",
   "metadata": {},
   "source": [
    "2.1 build user feature df\n",
    "\n",
    "之前构造的feat_df已经包含每个用户最新的喜好数据了，      \n",
    "只要选择feat_df中每个用户的最新数据即可，        \n",
    "这里可以同样按照aired_from排序，构造window进行筛选"
   ]
  },
  {
   "cell_type": "code",
   "execution_count": 32,
   "id": "6d836bab",
   "metadata": {},
   "outputs": [],
   "source": [
    "w = Window.partitionBy('user_id')\n",
    "\n",
    "user_feat_df = feat_df.withColumn('max_aired', max('aired_from').over(w)) \\\n",
    "    .where(col('aired_from') == col('max_aired')) \\\n",
    "    .drop('max_aired') "
   ]
  },
  {
   "cell_type": "markdown",
   "id": "c2704808",
   "metadata": {},
   "source": [
    "2.2 numeric"
   ]
  },
  {
   "cell_type": "code",
   "execution_count": 33,
   "id": "a06ec358",
   "metadata": {},
   "outputs": [],
   "source": [
    "user_numeric_transformed_df = user_numeric_scaler.transform(user_feat_df)"
   ]
  },
  {
   "cell_type": "code",
   "execution_count": 34,
   "id": "7964052b",
   "metadata": {},
   "outputs": [],
   "source": [
    "# user_numeric_transformed_df.show(5, vertical=True)"
   ]
  },
  {
   "cell_type": "markdown",
   "id": "5e1d2b3d",
   "metadata": {},
   "source": [
    "2.3 categorical"
   ]
  },
  {
   "cell_type": "code",
   "execution_count": 35,
   "id": "6e554050",
   "metadata": {},
   "outputs": [],
   "source": [
    "user_both_transformed_df = user_categorical_encoder.transform(user_numeric_transformed_df)"
   ]
  },
  {
   "cell_type": "code",
   "execution_count": null,
   "id": "50467a8a",
   "metadata": {},
   "outputs": [],
   "source": []
  },
  {
   "cell_type": "markdown",
   "id": "a73587a2",
   "metadata": {},
   "source": [
    "# Save"
   ]
  },
  {
   "cell_type": "markdown",
   "id": "0e042d8e",
   "metadata": {},
   "source": [
    "## 1. Save transformed_df for DNN training"
   ]
  },
  {
   "cell_type": "code",
   "execution_count": null,
   "id": "82476670",
   "metadata": {},
   "outputs": [],
   "source": []
  },
  {
   "cell_type": "markdown",
   "id": "59c60851",
   "metadata": {},
   "source": [
    "## 2. Save Item and User features to Redis"
   ]
  },
  {
   "cell_type": "markdown",
   "id": "ee526a29",
   "metadata": {},
   "source": [
    "### 2.1 Collect both dataset"
   ]
  },
  {
   "cell_type": "code",
   "execution_count": 36,
   "id": "06ab529b",
   "metadata": {},
   "outputs": [
    {
     "name": "stderr",
     "output_type": "stream",
     "text": [
      "                                                                                \r"
     ]
    }
   ],
   "source": [
    "item_features = item_both_transformed_df.collect()"
   ]
  },
  {
   "cell_type": "code",
   "execution_count": 37,
   "id": "ee89b57a",
   "metadata": {},
   "outputs": [
    {
     "data": {
      "text/plain": [
       "Row(anime_id=5114, name='Fullmetal Alchemist: Brotherhood', genre='Action, Adventure, Drama, Fantasy, Magic, Military, Shounen', type='TV', episodes='64', all_rating=9.26, members=793665, japanese_title='鋼の錬金術師 FULLMETAL ALCHEMIST', aired='Apr 5, 2009 to Jul 4, 2010', image_url='https://cdn.myanimelist.net/images/anime/1223/96541.jpg', aired_from=1238860800, aired_to=1278172800, genres=['Action', 'Adventure', 'Drama', 'Fantasy', 'Magic', 'Military', 'Shounen'], all_rating_min_max=0.9900000095367432, members_min_max=0.7799999713897705, aired_from_min_max=0.8999999761581421, aired_to_min_max=0.8999999761581421, genres_multihot=[0, 1, 0, 1, 1, 0, 0, 1, 1, 0, 0, 0, 0, 0, 1, 0, 0, 0, 0, 0, 1, 0, 0, 0, 0, 0, 0, 0, 0, 0, 0, 0, 0, 0, 0, 0, 0, 0, 0, 0, 0, 0, 0])"
      ]
     },
     "execution_count": 37,
     "metadata": {},
     "output_type": "execute_result"
    }
   ],
   "source": [
    "item_features[1]"
   ]
  },
  {
   "cell_type": "code",
   "execution_count": 38,
   "id": "9b9512b6",
   "metadata": {},
   "outputs": [
    {
     "name": "stderr",
     "output_type": "stream",
     "text": [
      "                                                                                \r"
     ]
    }
   ],
   "source": [
    "user_features = user_both_transformed_df.collect()"
   ]
  },
  {
   "cell_type": "code",
   "execution_count": 39,
   "id": "87089d49",
   "metadata": {},
   "outputs": [
    {
     "data": {
      "text/plain": [
       "Row(anime_id=30276, user_id=463, rating=10, name='One Punch Man', genre='Action, Comedy, Parody, Sci-Fi, Seinen, Super Power, Supernatural', type='TV', episodes='12', all_rating=8.82, members=552458, aired_from=1443974400, aired_to=1450627200, label=1, genres=['Action', 'Comedy', 'Parody', 'Sci-Fi', 'Seinen', 'Super Power', 'Supernatural'], user_rating_cnt=74, user_rating_ave=8.46, user_rating_std=1.09, user_aired_from_ave=1168336312.0, user_aired_to_ave=1188773573.0, user_liked_genres=['Comedy', 'Romance', 'Drama', 'Shounen', 'Adventure'], user_rating_ave_min_max=0.8299999833106995, user_rating_std_min_max=0.17000000178813934, user_aired_from_ave_min_max=0.8999999761581421, user_aired_to_ave_min_max=0.9100000262260437, user_liked_genres_multihot=[1, 0, 1, 1, 0, 0, 0, 1, 1, 0, 0, 0, 0, 0, 0, 0, 0, 0, 0, 0, 0, 0, 0, 0, 0, 0, 0, 0, 0, 0, 0, 0, 0, 0, 0, 0, 0, 0, 0, 0, 0, 0, 0])"
      ]
     },
     "execution_count": 39,
     "metadata": {},
     "output_type": "execute_result"
    }
   ],
   "source": [
    "user_features[1]"
   ]
  },
  {
   "cell_type": "markdown",
   "id": "c15f664f",
   "metadata": {},
   "source": [
    "### 2.2 Save to Redis"
   ]
  },
  {
   "cell_type": "code",
   "execution_count": 42,
   "id": "97b8ae4c",
   "metadata": {},
   "outputs": [],
   "source": [
    "from redis import Redis"
   ]
  },
  {
   "cell_type": "code",
   "execution_count": 43,
   "id": "b2b4faf9",
   "metadata": {},
   "outputs": [],
   "source": [
    "redis = Redis()"
   ]
  },
  {
   "cell_type": "code",
   "execution_count": 44,
   "id": "f444d29c",
   "metadata": {},
   "outputs": [],
   "source": [
    "item_numeric_feature_prefix = 'rank:item:num'\n",
    "user_numeric_feature_prefix = 'rank:user:num'\n",
    "item_categorical_feature_prefix = 'rank:item:cat'\n",
    "user_categorical_feature_prefix = 'rank:user:cat'"
   ]
  },
  {
   "cell_type": "code",
   "execution_count": 52,
   "id": "0e950d3a",
   "metadata": {},
   "outputs": [],
   "source": [
    "def save_numeric_features(rows, features, idcol, prefix):\n",
    "    for row in rows:\n",
    "        mapping = {feat: row[feat] for feat in features}\n",
    "        key = f\"{prefix}:{row[idcol]}\"\n",
    "        redis.hset(key, mapping=mapping)"
   ]
  },
  {
   "cell_type": "markdown",
   "id": "1d2e8ae8",
   "metadata": {},
   "source": [
    "2.2.1 Save item numeric features"
   ]
  },
  {
   "cell_type": "code",
   "execution_count": 53,
   "id": "69f5e557",
   "metadata": {},
   "outputs": [],
   "source": [
    "item_num_features = [\n",
    "    'all_rating_min_max',\n",
    "    'members_min_max',\n",
    "    'aired_from_min_max',\n",
    "    'aired_to_min_max'\n",
    "]\n",
    "\n",
    "save_numeric_features(\n",
    "    item_features, \n",
    "    item_num_features,\n",
    "    'anime_id',\n",
    "    item_numeric_feature_prefix\n",
    ")"
   ]
  },
  {
   "cell_type": "markdown",
   "id": "6d850327",
   "metadata": {},
   "source": [
    "2.2.2 Save user numeric features"
   ]
  },
  {
   "cell_type": "code",
   "execution_count": 54,
   "id": "56bc3e56",
   "metadata": {},
   "outputs": [],
   "source": [
    "user_num_features = [\n",
    "    'user_rating_ave_min_max',\n",
    "    'user_rating_std_min_max',\n",
    "    'user_aired_from_ave_min_max',\n",
    "    'user_aired_to_ave_min_max'\n",
    "]\n",
    "\n",
    "save_numeric_features(\n",
    "    user_features,\n",
    "    user_num_features,\n",
    "    'user_id',\n",
    "    user_numeric_feature_prefix\n",
    ")"
   ]
  },
  {
   "cell_type": "code",
   "execution_count": null,
   "id": "3dda987c",
   "metadata": {},
   "outputs": [],
   "source": []
  },
  {
   "cell_type": "code",
   "execution_count": 63,
   "id": "05ab79fe",
   "metadata": {},
   "outputs": [],
   "source": [
    "import json\n",
    "\n",
    "def list2str(l):\n",
    "    return json.dumps(l)\n",
    "\n",
    "def save_categorical_features(rows, feature, idcol, prefix):\n",
    "    for row in rows:\n",
    "        mapping = {\n",
    "            feature: list2str(row[feature])\n",
    "        }\n",
    "        key = f\"{prefix}:{row[idcol]}\"\n",
    "        redis.hset(key, mapping=mapping)"
   ]
  },
  {
   "cell_type": "markdown",
   "id": "988c2d4d",
   "metadata": {},
   "source": [
    "2.2.3 Save item categorical features"
   ]
  },
  {
   "cell_type": "code",
   "execution_count": 64,
   "id": "fcd5ff8f",
   "metadata": {},
   "outputs": [],
   "source": [
    "save_categorical_features(\n",
    "    item_features,\n",
    "    'genres_multihot',\n",
    "    'anime_id',\n",
    "    item_categorical_feature_prefix\n",
    ")"
   ]
  },
  {
   "cell_type": "markdown",
   "id": "4f04dd30",
   "metadata": {},
   "source": [
    "2.2.4 Save user categorical features"
   ]
  },
  {
   "cell_type": "code",
   "execution_count": 67,
   "id": "7ccc71f2",
   "metadata": {},
   "outputs": [],
   "source": [
    "save_categorical_features(\n",
    "    user_features,\n",
    "    'user_liked_genres_multihot',\n",
    "    'user_id',\n",
    "    user_categorical_feature_prefix\n",
    ")"
   ]
  },
  {
   "cell_type": "code",
   "execution_count": null,
   "id": "f3337122",
   "metadata": {},
   "outputs": [],
   "source": []
  }
 ],
 "metadata": {
  "kernelspec": {
   "display_name": "Python 3 (ipykernel)",
   "language": "python",
   "name": "python3"
  },
  "language_info": {
   "codemirror_mode": {
    "name": "ipython",
    "version": 3
   },
   "file_extension": ".py",
   "mimetype": "text/x-python",
   "name": "python",
   "nbconvert_exporter": "python",
   "pygments_lexer": "ipython3",
   "version": "3.8.5"
  }
 },
 "nbformat": 4,
 "nbformat_minor": 5
}
